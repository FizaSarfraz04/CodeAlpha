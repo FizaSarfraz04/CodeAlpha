{
 "cells": [
  {
   "cell_type": "code",
   "execution_count": 6,
   "id": "9eaed643",
   "metadata": {},
   "outputs": [
    {
     "name": "stderr",
     "output_type": "stream",
     "text": [
      "[nltk_data] Downloading package punkt to\n",
      "[nltk_data]     C:\\Users\\Admin\\AppData\\Roaming\\nltk_data...\n",
      "[nltk_data]   Package punkt is already up-to-date!\n",
      "[nltk_data] Downloading package wordnet to\n",
      "[nltk_data]     C:\\Users\\Admin\\AppData\\Roaming\\nltk_data...\n",
      "[nltk_data]   Package wordnet is already up-to-date!\n"
     ]
    },
    {
     "name": "stdout",
     "output_type": "stream",
     "text": [
      "ChatBot: Hello! Type 'bye' to exit the chat.\n"
     ]
    },
    {
     "name": "stdin",
     "output_type": "stream",
     "text": [
      "You:  by\n"
     ]
    },
    {
     "name": "stdout",
     "output_type": "stream",
     "text": [
      "ChatBot: Goodbye! Have a great day!\n"
     ]
    },
    {
     "name": "stdin",
     "output_type": "stream",
     "text": [
      "You:  bye\n"
     ]
    },
    {
     "name": "stdout",
     "output_type": "stream",
     "text": [
      "ChatBot: Goodbye! Have a great day!\n"
     ]
    }
   ],
   "source": [
    "import nltk\n",
    "import random\n",
    "import string\n",
    "from nltk.corpus import wordnet\n",
    "from nltk.tokenize import word_tokenize\n",
    "\n",
    "\n",
    "nltk.download('punkt')\n",
    "nltk.download('wordnet')\n",
    "# predefined set of responses \n",
    "RESPONSES = {\n",
    "    \"hello\": \"Hi there! How can I assist you today?\",\n",
    "    \"how are you\": \"I'm just a bot, but I'm doing well! How about you?\",\n",
    "    \"what is your name\": \"I'm ChatBot, your virtual assistant.\",\n",
    "    \"bye\": \"Goodbye! Have a great day!\",\n",
    "    \"what can you do\": \"I can chat with you, answer simple questions, and assist with various tasks. How can I help?\",\n",
    "    \"who created you\": \"I was created by a team of developers who enjoy building chatbots!\",\n",
    "    \"what is the time\": \"I don't have a watch, but your device should tell you the time.\",\n",
    "    \"what is your favorite color\": \"I don't have eyes to see, but I'd imagine I would like blue. What about you?\",\n",
    "    \"tell me a joke\": \"Sure! Why don't scientists trust atoms? Because they make up everything!\",\n",
    "    \"what is your purpose\": \"I'm here to assist you with information and have a friendly chat!\",\n",
    "    \"how old are you\": \"I don't age like humans, but I was born the day my code was written.\",\n",
    "    \"do you like humans\": \"I think humans are fascinating! You're creative, complex, and fun to talk to.\",\n",
    "    \"where do you live\": \"I live in the cloud, always ready to chat with you from anywhere.\",\n",
    "    \"what is the weather\": \"I can't check the weather directly, but you could use your favorite weather app for that!\",\n",
    "    \"what do you like to do\": \"I like helping people out and having fun conversations. What do you like doing?\",\n",
    "    \"can you help me\": \"Of course! What do you need assistance with today?\",\n",
    "    \"tell me a fun fact\": \"Did you know? The Eiffel Tower can be 15 cm taller during the summer due to the expansion of iron in the heat.\",\n",
    "    \"are you real\": \"I'm real in the sense that I'm here talking to you! But I'm made of code, not flesh and bones.\",\n",
    "    \"can you learn\": \"I don't learn like humans do, but I can be programmed to improve and adapt to new tasks.\",\n",
    "    \"what do you eat\": \"I don't eat, but I do process data. That's what keeps me going!\",\n",
    "}\n",
    "\n",
    "\n",
    "def tokenize(text):\n",
    "    \"\"\"Tokenize input text into words.\"\"\"\n",
    "    return word_tokenize(text.lower())\n",
    "\n",
    "def get_greeting(text):\n",
    "    \"\"\"Check for greetings and return a friendly response.\"\"\"\n",
    "    greetings = [\"hi\", \"hello\", \"hey\",\"hy\",\"greetings\", \"sup\", \"what's up\"]\n",
    "    for word in tokenize(text):\n",
    "        if word in greetings:\n",
    "            return \"Hello! How can I help you today?\"\n",
    "    return None\n",
    "\n",
    "def get_synonym(word):\n",
    "    \"\"\"Find a synonym for a word using WordNet.\"\"\"\n",
    "    synonyms = wordnet.synsets(word)\n",
    "    if synonyms:\n",
    "        return synonyms[0].lemmas()[0].name()\n",
    "    return None\n",
    "\n",
    "def respond_to_user(input_text):\n",
    "    \"\"\"Respond to the user input.\"\"\"\n",
    "    # Normalize and tokenize the user input\n",
    "    user_input = input_text.lower()\n",
    "    tokens = tokenize(user_input)\n",
    "    \n",
    "    # Check if input matches a predefined response directly\n",
    "    for key in RESPONSES:\n",
    "        if key in user_input:\n",
    "            return RESPONSES[key]\n",
    "\n",
    "    # Check for greetings\n",
    "    greeting = get_greeting(user_input)\n",
    "    if greeting:\n",
    "        return greeting\n",
    "\n",
    "    # Synonym matching\n",
    "    for token in tokens:\n",
    "        synonym = get_synonym(token)\n",
    "        if synonym:\n",
    "            for key in RESPONSES:\n",
    "                if synonym in key:\n",
    "                    return RESPONSES[key]\n",
    "\n",
    "    # Handle unrecognized input\n",
    "    return \"I'm not sure how to respond to that. Can you rephrase?\"\n",
    "\n",
    "\n",
    "\n",
    "def chatbot():\n",
    "    \"\"\"Main chatbot function to interact with the user.\"\"\"\n",
    "    print(\"ChatBot: Hello! Type 'bye' to exit the chat.\")\n",
    "\n",
    "    while True:\n",
    "        user_input = input(\"You: \")\n",
    "        if user_input.lower() == \"bye\":\n",
    "            print(\"ChatBot: Goodbye! Have a great day!\")\n",
    "            break\n",
    "\n",
    "        response = respond_to_user(user_input)\n",
    "        print(f\"ChatBot: {response}\")\n",
    "\n",
    "if __name__ == \"__main__\":\n",
    "    chatbot()\n"
   ]
  },
  {
   "cell_type": "code",
   "execution_count": null,
   "id": "cca5d002-10ad-4e0e-bdc2-9373e367551b",
   "metadata": {},
   "outputs": [],
   "source": []
  },
  {
   "cell_type": "code",
   "execution_count": null,
   "id": "70371243-44ea-4e0e-bbbf-02c3e7ec52c0",
   "metadata": {},
   "outputs": [],
   "source": []
  }
 ],
 "metadata": {
  "kernelspec": {
   "display_name": "Python 3 (ipykernel)",
   "language": "python",
   "name": "python3"
  },
  "language_info": {
   "codemirror_mode": {
    "name": "ipython",
    "version": 3
   },
   "file_extension": ".py",
   "mimetype": "text/x-python",
   "name": "python",
   "nbconvert_exporter": "python",
   "pygments_lexer": "ipython3",
   "version": "3.11.7"
  }
 },
 "nbformat": 4,
 "nbformat_minor": 5
}
