{
  "cells": [
    {
      "cell_type": "code",
      "execution_count": null,
      "metadata": {
        "colab": {
          "base_uri": "https://localhost:8080/"
        },
        "id": "KYGlcgR7ZzAG",
        "outputId": "2489a118-4e82-4389-b3f6-16dd16c18ed7"
      },
      "outputs": [],
      "source": [
        "import random\n",
        "\n",
        "# List of possible words\n",
        "word_list = ['python', 'javascript', 'hangman', 'developer', 'coding']\n",
        "\n",
        "def get_random_word(word_list):\n",
        "    return random.choice(word_list).lower()\n",
        "\n",
        "def display_word(word, guessed_letters):\n",
        "    return ''.join([letter if letter in guessed_letters else '_' for letter in word])\n",
        "\n",
        "def hangman():\n",
        "    word = get_random_word(word_list)\n",
        "    guessed_letters = set()\n",
        "    incorrect_guesses = 0\n",
        "    max_incorrect_guesses = 6  # Limit of incorrect guesses\n",
        "\n",
        "    print(\"Welcome to Hangman!\")\n",
        "\n",
        "    while incorrect_guesses < max_incorrect_guesses:\n",
        "        print(f\"\\nWord: {display_word(word, guessed_letters)}\")\n",
        "        print(f\"Incorrect guesses left: {max_incorrect_guesses - incorrect_guesses}\")\n",
        "        print(f\"Guessed letters: {', '.join(sorted(guessed_letters))}\")\n",
        "\n",
        "        guess = input(\"Guess a letter: \").lower()\n",
        "\n",
        "        if guess in guessed_letters:\n",
        "            print(\"You've already guessed that letter. Try again.\")\n",
        "            continue\n",
        "\n",
        "        guessed_letters.add(guess)\n",
        "\n",
        "        if guess in word:\n",
        "            print(f\"Good guess! '{guess}' is in the word.\")\n",
        "        else:\n",
        "            print(f\"Sorry, '{guess}' is not in the word.\")\n",
        "            incorrect_guesses += 1\n",
        "\n",
        "        if all(letter in guessed_letters for letter in word):\n",
        "            print(f\"\\nCongratulations! You've guessed the word: {word}\")\n",
        "            break\n",
        "    else:\n",
        "        print(f\"\\nGame over! The word was: {word}\")\n",
        "\n",
        "if __name__ == \"__main__\":\n",
        "    hangman()\n"
      ]
    },
    {
      "cell_type": "code",
      "execution_count": null,
      "metadata": {
        "id": "ZmR47GxRaM_n"
      },
      "outputs": [],
      "source": []
    }
  ],
  "metadata": {
    "colab": {
      "provenance": []
    },
    "kernelspec": {
      "display_name": "Python 3",
      "name": "python3"
    },
    "language_info": {
      "name": "python"
    }
  },
  "nbformat": 4,
  "nbformat_minor": 0
}
